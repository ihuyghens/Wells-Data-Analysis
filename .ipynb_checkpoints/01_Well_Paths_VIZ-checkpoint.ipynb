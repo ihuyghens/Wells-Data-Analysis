{
 "cells": [
  {
   "cell_type": "markdown",
   "id": "4f783351-e49e-4e1b-8f8e-f0fb0d9568de",
   "metadata": {},
   "source": [
    "# Visualizing Well Paths With The Welly Python Library\n",
    "Creating 3D Line Plots Using Matplotlib to Visualize Well Trajectories\n",
    "\n",
    "![alt text](well_paths.png \"Well Paths\")"
   ]
  },
  {
   "cell_type": "code",
   "execution_count": 31,
   "id": "0745ac3f-171e-42b9-801a-589a029a18ba",
   "metadata": {},
   "outputs": [],
   "source": [
    "# importing libraries & load data\n",
    "\n",
    "# Wells data library\n",
    "from welly import Location\n",
    "from welly import Well\n",
    "\n",
    "# Numeric and matrix library\n",
    "import pandas as pd\n",
    "\n",
    "#import matplotlib.pyplot as plt\n",
    "#import lasio"
   ]
  },
  {
   "cell_type": "code",
   "execution_count": 33,
   "id": "e87caca4-ec9a-4a3a-b630-3c577149e7c6",
   "metadata": {},
   "outputs": [],
   "source": [
    "#data = Well.from_las('https://github.com/andymcdgeo/Andys_YouTube_Notebooks/blob/main/Netherlands%20Data/L05-15-Spliced.las')\n",
    "\n",
    "data = Well.from_las('Data/greenland_GR.las')\n",
    "\n",
    "#las = lasio.read(\"Data/15-9-19_SR_COMP.LAS\")\n",
    "\n",
    "#df = pd.read_csv(\"Data/L05-15-Survey.csv\")"
   ]
  },
  {
   "cell_type": "code",
   "execution_count": 35,
   "id": "ade7278f-0c06-46e7-866b-3781d9a03466",
   "metadata": {},
   "outputs": [
    {
     "data": {
      "text/plain": [
       "{'GR': Curve(mnemonic=GR, units=GAPI, start=50.0000, stop=13000.0000, step=0.5000, count=[25901])}"
      ]
     },
     "execution_count": 35,
     "metadata": {},
     "output_type": "execute_result"
    }
   ],
   "source": [
    "data.data"
   ]
  },
  {
   "cell_type": "code",
   "execution_count": null,
   "id": "4046d08c-9da1-4c8c-b27d-5e3e04f8c5cd",
   "metadata": {},
   "outputs": [],
   "source": []
  },
  {
   "cell_type": "code",
   "execution_count": null,
   "id": "919f3fd9-b8fc-4b48-83b3-635ea7e48bf4",
   "metadata": {},
   "outputs": [],
   "source": []
  },
  {
   "cell_type": "code",
   "execution_count": null,
   "id": "3e727ca5-82e2-449a-a404-9f8ee3c6e763",
   "metadata": {},
   "outputs": [],
   "source": []
  },
  {
   "cell_type": "code",
   "execution_count": null,
   "id": "20fc9428-5cd1-4b2d-b97b-951369b31784",
   "metadata": {},
   "outputs": [],
   "source": []
  }
 ],
 "metadata": {
  "kernelspec": {
   "display_name": "Python 3 (ipykernel)",
   "language": "python",
   "name": "python3"
  },
  "language_info": {
   "codemirror_mode": {
    "name": "ipython",
    "version": 3
   },
   "file_extension": ".py",
   "mimetype": "text/x-python",
   "name": "python",
   "nbconvert_exporter": "python",
   "pygments_lexer": "ipython3",
   "version": "3.10.6"
  }
 },
 "nbformat": 4,
 "nbformat_minor": 5
}
